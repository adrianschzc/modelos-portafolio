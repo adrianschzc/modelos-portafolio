{
 "cells": [
  {
   "cell_type": "code",
   "execution_count": 1,
   "metadata": {},
   "outputs": [],
   "source": [
    "import yfinance as yf\n",
    "import pandas as pd\n",
    "\n",
    "\n",
    "# simbolo = \"TSLA\"\n",
    "\n",
    "# tesla = yf.Ticker(simbolo)\n",
    "# tesla.history(period=\"max\")"
   ]
  },
  {
   "cell_type": "markdown",
   "metadata": {},
   "source": [
    "BALANCE GENERAL"
   ]
  },
  {
   "cell_type": "code",
   "execution_count": null,
   "metadata": {},
   "outputs": [],
   "source": [
    "# Solo podemos sacar los ultimos 5 años balances\n",
    "tesla.balance_sheet"
   ]
  },
  {
   "cell_type": "markdown",
   "metadata": {},
   "source": [
    "RECOLECCION DE VARIAS EMPRESAS"
   ]
  },
  {
   "cell_type": "code",
   "execution_count": 2,
   "metadata": {},
   "outputs": [
    {
     "name": "stdout",
     "output_type": "stream",
     "text": [
      "Los precios se han guardado en C:/Users/adria/OneDrive/Documents/Precios/precios_empresas.csv\n"
     ]
    }
   ],
   "source": [
    "empresas = [\"GFNORTEO.MX\",\"AC.MX\",\"PINFRA.MX\",\"GAPB.MX\",\n",
    "            \"GENTERA.MX\",\"TLEVISACPO.MX\",\"GCARSOA1.MX\",\"GCC.MX\",\"MEGACPO.MX\",\"BIMBOA.MX\",]\n",
    "\n",
    "recolector = []\n",
    "start_date = \"2020-01-02\"\n",
    "end_date = \"2024-01-30\"\n",
    "\n",
    "for nemo in empresas:\n",
    "    ticker = yf.Ticker(nemo)\n",
    "    px = ticker.history(start=start_date, end=end_date)[\"Close\"]\n",
    "    px.name = nemo\n",
    "    recolector += [px]\n",
    "\n",
    "precios = pd.concat(recolector, axis=1)\n",
    "\n",
    "\n",
    "# Eliminar filas con valores NaN\n",
    "precios = precios.dropna()\n",
    "\n",
    "\n",
    "# Cambiar el formato de la columna de fechas\n",
    "precios.index = precios.index.strftime(\"%d/%m/%Y\")\n",
    "\n",
    "# Guardar en un archivo CSV\n",
    "nombre_archivo = \"C:/Users/adria/OneDrive/Documents/Precios/precios_empresas.csv\"\n",
    "precios.to_csv(nombre_archivo)\n",
    "\n",
    "print(f\"Los precios se han guardado en {nombre_archivo}\")"
   ]
  }
 ],
 "metadata": {
  "kernelspec": {
   "display_name": "Python 3",
   "language": "python",
   "name": "python3"
  },
  "language_info": {
   "codemirror_mode": {
    "name": "ipython",
    "version": 3
   },
   "file_extension": ".py",
   "mimetype": "text/x-python",
   "name": "python",
   "nbconvert_exporter": "python",
   "pygments_lexer": "ipython3",
   "version": "3.12.0"
  }
 },
 "nbformat": 4,
 "nbformat_minor": 2
}
